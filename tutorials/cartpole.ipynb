{
  "cells": [
    {
      "cell_type": "code",
      "source": [
        "import gym\n",
        "import cv2 as cv\n",
        "env = gym.make('CartPole-v1')\n",
        "obs = env.reset()\n",
        "action = env.action_space\n",
        "print('obs:',obs)\n",
        "print('action:',action)"
      ],
      "metadata": {
        "id": "U5jkMVh98t2E",
        "outputId": "c8c46266-f6f9-4ee7-ac31-ef427307b2eb",
        "colab": {
          "base_uri": "https://localhost:8080/"
        }
      },
      "execution_count": 10,
      "outputs": [
        {
          "output_type": "stream",
          "name": "stdout",
          "text": [
            "obs: [-0.02529378  0.02482731 -0.02548909  0.03060146]\n",
            "action: Discrete(2)\n"
          ]
        }
      ]
    },
    {
      "cell_type": "code",
      "source": [
        "\n",
        "img = env.render(mode='rgb_array')\n",
        "width = img.shape[1]\n",
        "height = img.shape[0]\n",
        "frame = []\n",
        "\n",
        "for _ in range(200):\n",
        "    img = env.render(mode='rgb_array')\n",
        "    env.step(env.action_space.sample()) # take a random action\n",
        "    frame.append(img)\n",
        "env.close()\n",
        "\n",
        "fourcc = cv.VideoWriter_fourcc(*'XVID')\n",
        "writer = cv.VideoWriter('output.avi',fourcc, 20.0, (width,height))\n",
        "for i in range(len(frame)):\n",
        "    writer.write(frame[i])\n",
        "writer.release()\n",
        "cv.destroyAllWindows"
      ],
      "metadata": {
        "id": "ESSIOkkq3wRZ",
        "outputId": "f04c0c8c-5253-4ad2-e116-d234e5f56b47",
        "colab": {
          "base_uri": "https://localhost:8080/"
        }
      },
      "execution_count": 4,
      "outputs": [
        {
          "output_type": "execute_result",
          "data": {
            "text/plain": [
              "<function destroyAllWindows>"
            ]
          },
          "metadata": {},
          "execution_count": 4
        }
      ]
    }
  ],
  "metadata": {
    "kernelspec": {
      "display_name": "Python 3",
      "language": "python",
      "name": "python3"
    },
    "language_info": {
      "codemirror_mode": {
        "name": "ipython",
        "version": 3
      },
      "file_extension": ".py",
      "mimetype": "text/x-python",
      "name": "python",
      "nbconvert_exporter": "python",
      "pygments_lexer": "ipython3",
      "version": "3.7.7"
    },
    "colab": {
      "provenance": [],
      "gpuType": "T4"
    },
    "accelerator": "GPU"
  },
  "nbformat": 4,
  "nbformat_minor": 0
}